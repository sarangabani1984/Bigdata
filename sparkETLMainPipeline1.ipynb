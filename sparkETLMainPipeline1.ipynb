{
 "cells": [
  {
   "cell_type": "markdown",
   "metadata": {
    "application/vnd.databricks.v1+cell": {
     "cellMetadata": {
      "byteLimit": 2048000,
      "rowLimit": 10000
     },
     "inputWidgets": {},
     "nuid": "8912a435-25d1-49e9-9f2e-ef531c9db9f4",
     "showTitle": false,
     "title": ""
    }
   },
   "source": [
    "###ETL Pipeline 1 Execution - Single Notebook\n",
    "We have writtened this code with complete INLINE CODING & INLINE FUNCTION, no REUSABLE FUNCTION MODULE is used\n",
    "\n",
    "Let us understand about Lifting & Shifting the iPython Notebook with the ETL Pipeline created as given below...\n",
    "Ingest Data into DBFS -> Extract Cust & trans data from DBFS -> Munge -> Enrich -> Customize -> Curate -> Wrangle -> Load to Consumption Layer (Unity Catalog (Hive)) & DBFS Mount Point\n",
    "\n",
    "![Profile Pic](http://inceptez.com/wp-content/uploads/2015/11/new_logo.png)"
   ]
  },
  {
   "cell_type": "markdown",
   "metadata": {
    "application/vnd.databricks.v1+cell": {
     "cellMetadata": {
      "byteLimit": 2048000,
      "rowLimit": 10000
     },
     "inputWidgets": {},
     "nuid": "71675be8-1d7c-48c4-a5a1-8e0eea38e09a",
     "showTitle": false,
     "title": ""
    }
   },
   "source": [
    "####Define all Inline functions"
   ]
  },
  {
   "cell_type": "code",
   "execution_count": 0,
   "metadata": {
    "application/vnd.databricks.v1+cell": {
     "cellMetadata": {
      "byteLimit": 2048000,
      "rowLimit": 10000
     },
     "inputWidgets": {},
     "nuid": "87515aaf-48d9-4a32-b145-c73e13f2eba6",
     "showTitle": false,
     "title": ""
    }
   },
   "outputs": [],
   "source": [
    "# Inline function to reorder columns\n",
    "def reord_cols(df):\n",
    "    return df.select(\"id\", \"custprofession\", \"custage\", \"custlname\", \"custfname\")\n",
    "\n",
    "# Inline function to enrich data\n",
    "def enrich(df):\n",
    "    enrich_addcols_df6 = df.withColumn(\"curdt\", current_date()).withColumn(\"loadts\", current_timestamp())\n",
    "    enrich_ren_df7 = enrich_addcols_df6.withColumnRenamed(\"srcsystem\", \"src\")\n",
    "    enrich_combine_df8 = enrich_ren_df7.withColumn(\"nameprof\", concat(\"custfname\", lit(\" is a \"), \"custprofession\")).drop(\"custfname\")\n",
    "    enrich_combine_split_df9 = enrich_combine_df8.withColumn(\"custfname\", split(\"nameprof\", ' ')[0])\n",
    "    enrich_combine_split_cast_reformat_df10 = enrich_combine_split_df9.withColumn(\"custage\",regexp_replace(\"custage\",\"[-]\",'')).withColumn(\"curdtstr\", col(\"curdt\").cast(\"string\"))\\\n",
    "        .withColumn(\"year\", year(col(\"curdt\"))).withColumn(\"curdtstr\", concat(substring(\"curdtstr\", 3, 2), lit(\"/\"), substring(\"curdtstr\", 6, 2)))\\\n",
    "        .withColumn(\"dtfmt\", date_format(\"curdt\", 'yyyy/MM/dd hh:mm:ss'))\n",
    "    return enrich_combine_split_cast_reformat_df10\n",
    "\n",
    "# Inline function for pre-wrangling\n",
    "def pre_wrangle(df):\n",
    "    return df.select(\"id\", \"custprofession\", \"custage\", \"src\", \"curdt\")\\\n",
    "        .groupBy(\"custprofession\")\\\n",
    "        .agg(avg(\"custage\").alias(\"avgage\"))\\\n",
    "        .where(\"avgage>49\")\\\n",
    "        .orderBy(\"custprofession\")\n",
    "\n",
    "# Inline function for pre-wrangling analysis\n",
    "def prewrang_anal(df):\n",
    "    sample1 = df.sample(0.2, 10)\n",
    "    smry = df.summary()\n",
    "    coorval = df.corr(\"custage\", \"custage\")\n",
    "    covval = df.cov(\"custage\", \"custage\")\n",
    "    freqval = df.freqItems([\"custprofession\", \"agegroup\"], 0.4)\n",
    "    return sample1, smry, coorval, covval, freqval\n",
    "\n",
    "# Inline function to aggregate data\n",
    "def aggregate_data(df):\n",
    "    return df.groupby(\"year\", \"agegroup\", \"custprofession\").agg(max(\"curdt\").alias(\"max_curdt\"), min(\"curdt\").alias(\"min_curdt\"),\n",
    "                                                                 avg(\"custage\").alias(\"avg_custage\"), mean(\"custage\").alias(\"mean_age\"),\n",
    "                                                                 countDistinct(\"custage\").alias(\"distinct_cnt_age\"))\\\n",
    "             .orderBy(\"year\", \"agegroup\", \"custprofession\", ascending=[False, True, False])\n",
    "\n",
    "# Inline function to standardize columns\n",
    "def standardize_cols(df):\n",
    "    srcsys = 'Retail'\n",
    "    reord_added_df3 = df.withColumn(\"srcsystem\", lit(srcsys))\n",
    "    reord_added_replaced_df4 = reord_added_df3.withColumn(\"custfname\", col(\"custlname\"))\n",
    "    chgnumcol_reord_df5 = reord_added_replaced_df4.drop(\"custlname\")\n",
    "    return chgnumcol_reord_df5\n",
    "\n",
    "# Function to return a predefined schema\n",
    "def ret_struct():\n",
    "    return StructType([StructField(\"id\", IntegerType(), False),\n",
    "                       StructField(\"custfname\", StringType(), False),\n",
    "                       StructField(\"custlname\", StringType(), True),\n",
    "                       StructField(\"custage\", ShortType(), True),\n",
    "                       StructField(\"custprofession\", StringType(), True)])\n"
   ]
  },
  {
   "cell_type": "markdown",
   "metadata": {
    "application/vnd.databricks.v1+cell": {
     "cellMetadata": {
      "byteLimit": 2048000,
      "rowLimit": 10000
     },
     "inputWidgets": {},
     "nuid": "28e9b3a8-a38d-4804-979f-841263da4557",
     "showTitle": false,
     "title": ""
    }
   },
   "source": [
    "####Main pipeline Execution Starts here..."
   ]
  },
  {
   "cell_type": "code",
   "execution_count": 0,
   "metadata": {
    "application/vnd.databricks.v1+cell": {
     "cellMetadata": {
      "byteLimit": 2048000,
      "rowLimit": 10000
     },
     "inputWidgets": {},
     "nuid": "2f4dd31f-931f-488f-8906-ddeb1c840c86",
     "showTitle": false,
     "title": ""
    }
   },
   "outputs": [],
   "source": [
    "def main(arg):\n",
    "    print(\"Define Spark session object (inline code)\")\n",
    "    spark = SparkSession.builder\\\n",
    "        .appName(\"Very Important SQL End to End App\")\\\n",
    "        .enableHiveSupport()\\\n",
    "        .getOrCreate()\n",
    "#.config(\"spark.jars\", \"dbfs:/FileStore/config/mysql_connector_java.jar\")\\\n",
    "    print(\"Set the logger level to error\")\n",
    "    spark.sparkContext.setLogLevel(\"ERROR\")\n",
    "\n",
    "    print(\"1. Data Munging\")\n",
    "    custstructtype1 = ret_struct()\n",
    "    custdf_clean = spark.read.csv(arg[1], mode='dropmalformed', schema=custstructtype1)\n",
    "    custdf_optimized = custdf_clean.repartition(4).cache()\n",
    "\n",
    "    print(\"Dropping Duplicates of cust data\")\n",
    "    dedup_dropduplicates_df = custdf_optimized.dropDuplicates([\"custage\", \"id\"])\n",
    "    \n",
    "    txnsstructtype2 = StructType([StructField(\"txnid\", IntegerType(), False),\n",
    "                                  StructField(\"dt\", StringType()),\n",
    "                                  StructField(\"custid\", IntegerType()),\n",
    "                                  StructField(\"amt\", DoubleType()),\n",
    "                                  StructField(\"category\", StringType()),\n",
    "                                  StructField(\"product\", StringType()),\n",
    "                                  StructField(\"city\", StringType()),\n",
    "                                  StructField(\"state\", StringType()),\n",
    "                                  StructField(\"spendby\", StringType())])\n",
    "\n",
    "    txns = spark.read.csv(arg[2], mode='dropmalformed', schema=txnsstructtype2)\n",
    "    txns_clean_optimized = txns.repartition(1).cache()\n",
    "    \n",
    "    print(\"Dropping Duplicates of txns data\")\n",
    "    txns_dedup = txns_clean_optimized.dropDuplicates([\"dt\", \"amt\", \"txnid\"])\n",
    "\n",
    "    print(\"Data Preparation (Cleansing & Scrubbing)\")\n",
    "    prof_dict = {\"Therapist\": \"Physician\", \"Musician\": \"Music Director\", \"na\": \"prof not defined\"}\n",
    "    dedup_dropfillreplacena_clensed_scrubbed_df1 = dedup_dropduplicates_df.na.replace(prof_dict, subset=[\"custprofession\"])\n",
    "    dedup_dropfillreplacena_clensed_scrubbed_df1.show()\n",
    "\n",
    "    print(\"Data Standardization (column)\")\n",
    "    reord_df2 = reord_cols(dedup_dropfillreplacena_clensed_scrubbed_df1)\n",
    "    munged_df = standardize_cols(reord_df2)\n",
    "    munged_df.show()\n",
    "\n",
    "    print(\"Data Enrichment (values)\")\n",
    "    munged_enriched_df = enrich(munged_df)\n",
    "    munged_enriched_df.show()\n",
    "\n",
    "    print(\"Data Customization & Processing (Business logics)\")\n",
    "    from pyspark.sql.functions import udf\n",
    "    age_custom_validation = udf(lambda x: 'Adult' if x > 18 else 'Child')\n",
    "    custom_agegrp_munged_enriched_df = munged_enriched_df.withColumn(\"custage\",coalesce(\"custage\",lit(0)).cast(\"int\")).withColumn(\"agegroup\", age_custom_validation(\"custage\"))\n",
    "    custom_agegrp_munged_enriched_df.show()\n",
    "\n",
    "    print(\"Core Data Processing/Transformation (Level1) (Pre Wrangling) Curation\")\n",
    "    pre_wrangled_customized_munged_enriched_df = pre_wrangle(custom_agegrp_munged_enriched_df)\n",
    "    pre_wrangled_customized_munged_enriched_df.show()\n",
    "\n",
    "    filtered_nochildren_rowcol_df_for_further_wrangling1 = custom_agegrp_munged_enriched_df.filter(\"agegroup <> 'Child'\")\\\n",
    "        .select(\"id\", \"custage\", \"curdt\", \"custfname\", \"year\", \"agegroup\")\n",
    "    filtered_nochildren_rowcol_df_for_further_wrangling1.show()\n",
    "\n",
    "    dim_year_agegrp_prof_metrics_avg_mean_max_min_distinctCount_count_for_consumption2 = custom_agegrp_munged_enriched_df.filter(\"agegroup <> 'Child'\")\n",
    "    aggr_df = aggregate_data(dim_year_agegrp_prof_metrics_avg_mean_max_min_distinctCount_count_for_consumption2)\n",
    "    aggr_df.show()\n",
    "\n",
    "    aggr_filter_df = aggr_df.filter(\"avg_custage > 35\")\n",
    "    aggr_filter_df.show()\n",
    "\n",
    "    print(\"Analytical Functionalities\")\n",
    "    sampledf, summarydf, corrval, covval, freqdf = prewrang_anal(custom_agegrp_munged_enriched_df)\n",
    "    sampledf.show()\n",
    "    summarydf.show()\n",
    "    print(f\"Correlation value of age is {corrval}\")\n",
    "    print(f\"Covariance value of age is {covval}\")\n",
    "    freqdf.show()\n",
    "\n",
    "    masked_df = custom_agegrp_munged_enriched_df.withColumn(\"custfname\", md5(col(\"custfname\")))\n",
    "    masked_df.show()\n",
    "\n",
    "    print(\"Core Data Curation/Processing/Transformation (Level2) Data Wrangling\")\n",
    "    denormalizeddf = custdf_clean.alias(\"c\").join(txns_dedup.alias(\"t\"), col(\"c.id\") == col(\"t.custid\"), \"inner\")\n",
    "    denormalizeddf.show()\n",
    "    rno_txns3 = denormalizeddf.select(\"*\", row_number().over(Window.orderBy(\"dt\")).alias(\"sno\"))\n",
    "    rno_txns3.show()\n",
    "\n",
    "    print(\"Data Persistence & Consumption\")\n",
    "    print(\"final df output\")\n",
    "    custom_agegrp_munged_enriched_df.show()\n",
    "    custom_agegrp_munged_enriched_df.write.mode(\"overwrite\").saveAsTable(\"default.cust_final_tbl_we43\")\n",
    "    print(\"Hive Table Load Completed\")\n",
    "    aggr_filter_df.write.mode(\"overwrite\").json(\"/mnt/drive/ETLresult_we43\")\n",
    "    print(\"Outbound Egress File load completed\")\n",
    "    #rno_txns3.write.format(\"jdbc\").option(\"url\", \"jdbc:mysql://localhost/custdb\").option(\"dbtable\", \"custtxns\")\\\n",
    "    #    .option(\"user\", \"root\").option(\"password\", \"password\").option(\"driver\", \"com.mysql.jdbc.Driver\").save()\n",
    "    \n",
    "    print(\"ETL Processing Completed\")\n",
    "\n"
   ]
  },
  {
   "cell_type": "markdown",
   "metadata": {
    "application/vnd.databricks.v1+cell": {
     "cellMetadata": {
      "byteLimit": 2048000,
      "rowLimit": 10000
     },
     "inputWidgets": {},
     "nuid": "d758e702-1094-46ff-885b-ab03038eefc6",
     "showTitle": false,
     "title": ""
    }
   },
   "source": [
    "####Define the DBUtils widgets for adding text box to input data and connection properties..."
   ]
  },
  {
   "cell_type": "code",
   "execution_count": 0,
   "metadata": {
    "application/vnd.databricks.v1+cell": {
     "cellMetadata": {
      "byteLimit": 2048000,
      "rowLimit": 10000
     },
     "inputWidgets": {},
     "nuid": "2c208d03-abba-42c3-b538-951b172332f3",
     "showTitle": false,
     "title": ""
    }
   },
   "outputs": [],
   "source": [
    "dbutils.widgets.text(\"cust_data_path\", \"\")\n",
    "dbutils.widgets.text(\"txns_data_path\", \"\")\n",
    "dbutils.widgets.text(\"connection_properties_path\", \"\")\n",
    "\n",
    "input_path1 = dbutils.widgets.get(\"cust_data_path\")\n",
    "input_path2 = dbutils.widgets.get(\"txns_data_path\")\n",
    "connection_properties_path3 = dbutils.widgets.get(\"connection_properties_path\")"
   ]
  },
  {
   "cell_type": "markdown",
   "metadata": {
    "application/vnd.databricks.v1+cell": {
     "cellMetadata": {
      "byteLimit": 2048000,
      "rowLimit": 10000
     },
     "inputWidgets": {},
     "nuid": "3a1d9026-6d50-4960-bda1-23b71bddc656",
     "showTitle": false,
     "title": ""
    }
   },
   "source": [
    "####Run Other Notebooks from this notebook passing some parameters...."
   ]
  },
  {
   "cell_type": "code",
   "execution_count": 0,
   "metadata": {
    "application/vnd.databricks.v1+cell": {
     "cellMetadata": {
      "byteLimit": 2048000,
      "rowLimit": 10000
     },
     "inputWidgets": {},
     "nuid": "8805ec7f-eb1b-437d-9733-d6959e289edd",
     "showTitle": false,
     "title": ""
    }
   },
   "outputs": [],
   "source": [
    "#dbutils.notebook.run(\"./reusable_functions\", 30,{\"param1\":\"- passed from the parent notebook\"})\n",
    "#dbutils.notebook.run(\"./reusable_functions\", 30)"
   ]
  },
  {
   "cell_type": "markdown",
   "metadata": {
    "application/vnd.databricks.v1+cell": {
     "cellMetadata": {
      "byteLimit": 2048000,
      "rowLimit": 10000
     },
     "inputWidgets": {},
     "nuid": "78196317-f807-4682-aa75-d8a97ac98286",
     "showTitle": false,
     "title": ""
    }
   },
   "source": [
    "####Main method call with arguments"
   ]
  },
  {
   "cell_type": "code",
   "execution_count": 0,
   "metadata": {
    "application/vnd.databricks.v1+cell": {
     "cellMetadata": {
      "byteLimit": 2048000,
      "rowLimit": 10000
     },
     "inputWidgets": {},
     "nuid": "58f53f56-8fe8-4262-8bd0-b153f56408ef",
     "showTitle": false,
     "title": ""
    }
   },
   "outputs": [
    {
     "output_type": "stream",
     "name": "stdout",
     "output_type": "stream",
     "text": [
      "dbfs:/FileStore/data/custsmodified dbfs:/FileStore/data/txns dbfs:/FileStore/config/connection.prop\nDefine Spark session object (inline code)\nSet the logger level to error\n1. Data Munging\nDropping Duplicates of cust data\nDropping Duplicates of txns data\nData Preparation (Cleansing & Scrubbing)\n+-------+---------+---------+-------+--------------------+\n|     id|custfname|custlname|custage|      custprofession|\n+-------+---------+---------+-------+--------------------+\n|   null|     null|     null|   null|                null|\n|4000010|  Dolores|     null|   null|                null|\n|4000000|   Apache|    Spark|     11|                null|\n|4000052|  Shirley|  Merritt|     21|            Reporter|\n|4000176|  Kristin|Alexander|     21|               Coach|\n|4000290|     Gail|Whitehead|     21|               Nurse|\n|4000292|    Donna|     Rice|     21|       Social worker|\n|4000349|  Russell|   Dalton|     21|      Civil engineer|\n|4000451|  Russell|     Hess|     21|           Architect|\n|4000465|    Peter|  Guthrie|     21|               Nurse|\n|4000765|   Janice|   Bowden|     21|          Politician|\n|4000779|    Jason|  Bowling|     21|               Coach|\n|4001043|      Ian|   Hodges|     21|               Coach|\n|4001101|     Toni|    Byers|     21|           Economist|\n|4001109|    Edwin|     Ball|     21|           Carpenter|\n|4001213|  Brandon|    Nance|     21|            Reporter|\n|4001430|  Lindsay| Reynolds|     21|Computer support ...|\n|4001453|    Paige|    Wolfe|     21|   Financial analyst|\n|4001541|     Nina| Humphrey|     21|Human resources a...|\n|4001563|    Derek|   Foster|     21|      Civil engineer|\n+-------+---------+---------+-------+--------------------+\nonly showing top 20 rows\n\nData Standardization (column)\n+-------+--------------------+-------+---------+---------+\n|     id|      custprofession|custage|custfname|srcsystem|\n+-------+--------------------+-------+---------+---------+\n|   null|                null|   null|     null|   Retail|\n|4000010|                null|   null|     null|   Retail|\n|4000000|                null|     11|    Spark|   Retail|\n|4000052|            Reporter|     21|  Merritt|   Retail|\n|4000176|               Coach|     21|Alexander|   Retail|\n|4000290|               Nurse|     21|Whitehead|   Retail|\n|4000292|       Social worker|     21|     Rice|   Retail|\n|4000349|      Civil engineer|     21|   Dalton|   Retail|\n|4000451|           Architect|     21|     Hess|   Retail|\n|4000465|               Nurse|     21|  Guthrie|   Retail|\n|4000765|          Politician|     21|   Bowden|   Retail|\n|4000779|               Coach|     21|  Bowling|   Retail|\n|4001043|               Coach|     21|   Hodges|   Retail|\n|4001101|           Economist|     21|    Byers|   Retail|\n|4001109|           Carpenter|     21|     Ball|   Retail|\n|4001213|            Reporter|     21|    Nance|   Retail|\n|4001430|Computer support ...|     21| Reynolds|   Retail|\n|4001453|   Financial analyst|     21|    Wolfe|   Retail|\n|4001541|Human resources a...|     21| Humphrey|   Retail|\n|4001563|      Civil engineer|     21|   Foster|   Retail|\n+-------+--------------------+-------+---------+---------+\nonly showing top 20 rows\n\nData Enrichment (values)\n+-------+--------------------+-------+------+----------+--------------------+--------------------+---------+--------+----+-------------------+\n|     id|      custprofession|custage|   src|     curdt|              loadts|            nameprof|custfname|curdtstr|year|              dtfmt|\n+-------+--------------------+-------+------+----------+--------------------+--------------------+---------+--------+----+-------------------+\n|   null|                null|   null|Retail|2024-06-30|2024-06-30 23:22:...|                null|     null|   24/06|2024|2024/06/30 12:00:00|\n|4000010|                null|   null|Retail|2024-06-30|2024-06-30 23:22:...|                null|     null|   24/06|2024|2024/06/30 12:00:00|\n|4000000|                null|     11|Retail|2024-06-30|2024-06-30 23:22:...|                null|     null|   24/06|2024|2024/06/30 12:00:00|\n|4000052|            Reporter|     21|Retail|2024-06-30|2024-06-30 23:22:...|Merritt is a Repo...|  Merritt|   24/06|2024|2024/06/30 12:00:00|\n|4000176|               Coach|     21|Retail|2024-06-30|2024-06-30 23:22:...|Alexander is a Coach|Alexander|   24/06|2024|2024/06/30 12:00:00|\n|4000290|               Nurse|     21|Retail|2024-06-30|2024-06-30 23:22:...|Whitehead is a Nurse|Whitehead|   24/06|2024|2024/06/30 12:00:00|\n|4000292|       Social worker|     21|Retail|2024-06-30|2024-06-30 23:22:...|Rice is a Social ...|     Rice|   24/06|2024|2024/06/30 12:00:00|\n|4000349|      Civil engineer|     21|Retail|2024-06-30|2024-06-30 23:22:...|Dalton is a Civil...|   Dalton|   24/06|2024|2024/06/30 12:00:00|\n|4000451|           Architect|     21|Retail|2024-06-30|2024-06-30 23:22:...| Hess is a Architect|     Hess|   24/06|2024|2024/06/30 12:00:00|\n|4000465|               Nurse|     21|Retail|2024-06-30|2024-06-30 23:22:...|  Guthrie is a Nurse|  Guthrie|   24/06|2024|2024/06/30 12:00:00|\n|4000765|          Politician|     21|Retail|2024-06-30|2024-06-30 23:22:...|Bowden is a Polit...|   Bowden|   24/06|2024|2024/06/30 12:00:00|\n|4000779|               Coach|     21|Retail|2024-06-30|2024-06-30 23:22:...|  Bowling is a Coach|  Bowling|   24/06|2024|2024/06/30 12:00:00|\n|4001043|               Coach|     21|Retail|2024-06-30|2024-06-30 23:22:...|   Hodges is a Coach|   Hodges|   24/06|2024|2024/06/30 12:00:00|\n|4001101|           Economist|     21|Retail|2024-06-30|2024-06-30 23:22:...|Byers is a Economist|    Byers|   24/06|2024|2024/06/30 12:00:00|\n|4001109|           Carpenter|     21|Retail|2024-06-30|2024-06-30 23:22:...| Ball is a Carpenter|     Ball|   24/06|2024|2024/06/30 12:00:00|\n|4001213|            Reporter|     21|Retail|2024-06-30|2024-06-30 23:22:...| Nance is a Reporter|    Nance|   24/06|2024|2024/06/30 12:00:00|\n|4001430|Computer support ...|     21|Retail|2024-06-30|2024-06-30 23:22:...|Reynolds is a Com...| Reynolds|   24/06|2024|2024/06/30 12:00:00|\n|4001453|   Financial analyst|     21|Retail|2024-06-30|2024-06-30 23:22:...|Wolfe is a Financ...|    Wolfe|   24/06|2024|2024/06/30 12:00:00|\n|4001541|Human resources a...|     21|Retail|2024-06-30|2024-06-30 23:22:...|Humphrey is a Hum...| Humphrey|   24/06|2024|2024/06/30 12:00:00|\n|4001563|      Civil engineer|     21|Retail|2024-06-30|2024-06-30 23:22:...|Foster is a Civil...|   Foster|   24/06|2024|2024/06/30 12:00:00|\n+-------+--------------------+-------+------+----------+--------------------+--------------------+---------+--------+----+-------------------+\nonly showing top 20 rows\n\nData Customization & Processing (Business logics)\n+-------+--------------------+-------+------+----------+--------------------+--------------------+---------+--------+----+-------------------+--------+\n|     id|      custprofession|custage|   src|     curdt|              loadts|            nameprof|custfname|curdtstr|year|              dtfmt|agegroup|\n+-------+--------------------+-------+------+----------+--------------------+--------------------+---------+--------+----+-------------------+--------+\n|   null|                null|      0|Retail|2024-06-30|2024-06-30 23:22:...|                null|     null|   24/06|2024|2024/06/30 12:00:00|   Child|\n|4000010|                null|      0|Retail|2024-06-30|2024-06-30 23:22:...|                null|     null|   24/06|2024|2024/06/30 12:00:00|   Child|\n|4000000|                null|     11|Retail|2024-06-30|2024-06-30 23:22:...|                null|     null|   24/06|2024|2024/06/30 12:00:00|   Child|\n|4000052|            Reporter|     21|Retail|2024-06-30|2024-06-30 23:22:...|Merritt is a Repo...|  Merritt|   24/06|2024|2024/06/30 12:00:00|   Adult|\n|4000176|               Coach|     21|Retail|2024-06-30|2024-06-30 23:22:...|Alexander is a Coach|Alexander|   24/06|2024|2024/06/30 12:00:00|   Adult|\n|4000290|               Nurse|     21|Retail|2024-06-30|2024-06-30 23:22:...|Whitehead is a Nurse|Whitehead|   24/06|2024|2024/06/30 12:00:00|   Adult|\n|4000292|       Social worker|     21|Retail|2024-06-30|2024-06-30 23:22:...|Rice is a Social ...|     Rice|   24/06|2024|2024/06/30 12:00:00|   Adult|\n|4000349|      Civil engineer|     21|Retail|2024-06-30|2024-06-30 23:22:...|Dalton is a Civil...|   Dalton|   24/06|2024|2024/06/30 12:00:00|   Adult|\n|4000451|           Architect|     21|Retail|2024-06-30|2024-06-30 23:22:...| Hess is a Architect|     Hess|   24/06|2024|2024/06/30 12:00:00|   Adult|\n|4000465|               Nurse|     21|Retail|2024-06-30|2024-06-30 23:22:...|  Guthrie is a Nurse|  Guthrie|   24/06|2024|2024/06/30 12:00:00|   Adult|\n|4000765|          Politician|     21|Retail|2024-06-30|2024-06-30 23:22:...|Bowden is a Polit...|   Bowden|   24/06|2024|2024/06/30 12:00:00|   Adult|\n|4000779|               Coach|     21|Retail|2024-06-30|2024-06-30 23:22:...|  Bowling is a Coach|  Bowling|   24/06|2024|2024/06/30 12:00:00|   Adult|\n|4001043|               Coach|     21|Retail|2024-06-30|2024-06-30 23:22:...|   Hodges is a Coach|   Hodges|   24/06|2024|2024/06/30 12:00:00|   Adult|\n|4001101|           Economist|     21|Retail|2024-06-30|2024-06-30 23:22:...|Byers is a Economist|    Byers|   24/06|2024|2024/06/30 12:00:00|   Adult|\n|4001109|           Carpenter|     21|Retail|2024-06-30|2024-06-30 23:22:...| Ball is a Carpenter|     Ball|   24/06|2024|2024/06/30 12:00:00|   Adult|\n|4001213|            Reporter|     21|Retail|2024-06-30|2024-06-30 23:22:...| Nance is a Reporter|    Nance|   24/06|2024|2024/06/30 12:00:00|   Adult|\n|4001430|Computer support ...|     21|Retail|2024-06-30|2024-06-30 23:22:...|Reynolds is a Com...| Reynolds|   24/06|2024|2024/06/30 12:00:00|   Adult|\n|4001453|   Financial analyst|     21|Retail|2024-06-30|2024-06-30 23:22:...|Wolfe is a Financ...|    Wolfe|   24/06|2024|2024/06/30 12:00:00|   Adult|\n|4001541|Human resources a...|     21|Retail|2024-06-30|2024-06-30 23:22:...|Humphrey is a Hum...| Humphrey|   24/06|2024|2024/06/30 12:00:00|   Adult|\n|4001563|      Civil engineer|     21|Retail|2024-06-30|2024-06-30 23:22:...|Foster is a Civil...|   Foster|   24/06|2024|2024/06/30 12:00:00|   Adult|\n+-------+--------------------+-------+------+----------+--------------------+--------------------+---------+--------+----+-------------------+--------+\nonly showing top 20 rows\n\nCore Data Processing/Transformation (Level1) (Pre Wrangling) Curation\n+--------------------+------------------+\n|      custprofession|            avgage|\n+--------------------+------------------+\n|          Accountant|49.005076142131976|\n|               Actor| 49.97959183673469|\n|             Chemist|49.480582524271846|\n|Computer hardware...| 49.34975369458128|\n|Computer software...| 50.80555555555556|\n|            Designer|49.916666666666664|\n|              Doctor| 49.77248677248677|\n| Electrical engineer|           50.1875|\n|Environmental sci...| 49.19886363636363|\n|              Farmer| 50.16326530612245|\n|         Firefighter| 49.60648148148148|\n|               Judge| 49.24867724867725|\n|      Music Director|49.044117647058826|\n|           Physicist| 49.33830845771144|\n|   Real estate agent| 49.68586387434555|\n|       Social worker|49.132075471698116|\n|             Teacher| 49.96808510638298|\n|        Veterinarian|49.932367149758456|\n|              Writer| 50.47872340425532|\n+--------------------+------------------+\n\n+-------+-------+----------+---------+----+--------+\n|     id|custage|     curdt|custfname|year|agegroup|\n+-------+-------+----------+---------+----+--------+\n|4000052|     21|2024-06-30|  Merritt|2024|   Adult|\n|4000176|     21|2024-06-30|Alexander|2024|   Adult|\n|4000290|     21|2024-06-30|Whitehead|2024|   Adult|\n|4000292|     21|2024-06-30|     Rice|2024|   Adult|\n|4000349|     21|2024-06-30|   Dalton|2024|   Adult|\n|4000451|     21|2024-06-30|     Hess|2024|   Adult|\n|4000465|     21|2024-06-30|  Guthrie|2024|   Adult|\n|4000765|     21|2024-06-30|   Bowden|2024|   Adult|\n|4000779|     21|2024-06-30|  Bowling|2024|   Adult|\n|4001043|     21|2024-06-30|   Hodges|2024|   Adult|\n|4001101|     21|2024-06-30|    Byers|2024|   Adult|\n|4001109|     21|2024-06-30|     Ball|2024|   Adult|\n|4001213|     21|2024-06-30|    Nance|2024|   Adult|\n|4001430|     21|2024-06-30| Reynolds|2024|   Adult|\n|4001453|     21|2024-06-30|    Wolfe|2024|   Adult|\n|4001541|     21|2024-06-30| Humphrey|2024|   Adult|\n|4001563|     21|2024-06-30|   Foster|2024|   Adult|\n|4001589|     21|2024-06-30|       Lu|2024|   Adult|\n|4001732|     21|2024-06-30| Franklin|2024|   Adult|\n|4001843|     21|2024-06-30|   Rogers|2024|   Adult|\n+-------+-------+----------+---------+----+--------+\nonly showing top 20 rows\n\n+----+--------+--------------------+----------+----------+------------------+------------------+----------------+\n|year|agegroup|      custprofession| max_curdt| min_curdt|       avg_custage|          mean_age|distinct_cnt_age|\n+----+--------+--------------------+----------+----------+------------------+------------------+----------------+\n|2024|   Adult|              Writer|2024-06-30|2024-06-30| 50.47872340425532| 50.47872340425532|              41|\n|2024|   Adult|        Veterinarian|2024-06-30|2024-06-30|49.932367149758456|49.932367149758456|              52|\n|2024|   Adult|             Teacher|2024-06-30|2024-06-30| 49.96808510638298| 49.96808510638298|              51|\n|2024|   Adult|        Statistician|2024-06-30|2024-06-30| 48.73979591836735| 48.73979591836735|              51|\n|2024|   Adult|       Social worker|2024-06-30|2024-06-30|49.132075471698116|49.132075471698116|              53|\n|2024|   Adult|           Secretary|2024-06-30|2024-06-30|             46.99|             46.99|              52|\n|2024|   Adult|            Reporter|2024-06-30|2024-06-30|             48.11|             48.11|              49|\n|2024|   Adult|Recreation and fi...|2024-06-30|2024-06-30| 47.56666666666667| 47.56666666666667|              51|\n|2024|   Adult|   Real estate agent|2024-06-30|2024-06-30| 49.68586387434555| 49.68586387434555|              52|\n|2024|   Adult|        Psychologist|2024-06-30|2024-06-30| 47.41752577319588| 47.41752577319588|              54|\n|2024|   Adult|          Politician|2024-06-30|2024-06-30| 47.97797356828194| 47.97797356828194|              54|\n|2024|   Adult|      Police officer|2024-06-30|2024-06-30| 47.97607655502392| 47.97607655502392|              54|\n|2024|   Adult|               Pilot|2024-06-30|2024-06-30| 47.81730769230769| 47.81730769230769|              54|\n|2024|   Adult|           Physicist|2024-06-30|2024-06-30| 49.33830845771144| 49.33830845771144|              52|\n|2024|   Adult|           Physician|2024-06-30|2024-06-30|48.693548387096776|48.693548387096776|              53|\n|2024|   Adult|        Photographer|2024-06-30|2024-06-30| 47.77477477477478| 47.77477477477478|              54|\n|2024|   Adult|          Pharmacist|2024-06-30|2024-06-30|46.244131455399064|46.244131455399064|              55|\n|2024|   Adult|               Nurse|2024-06-30|2024-06-30|48.481675392670155|48.481675392670155|              49|\n|2024|   Adult|      Music Director|2024-06-30|2024-06-30|49.044117647058826|49.044117647058826|              52|\n|2024|   Adult|        Loan officer|2024-06-30|2024-06-30| 48.39819004524887| 48.39819004524887|              52|\n+----+--------+--------------------+----------+----------+------------------+------------------+----------------+\nonly showing top 20 rows\n\n+----+--------+--------------------+----------+----------+------------------+------------------+----------------+\n|year|agegroup|      custprofession| max_curdt| min_curdt|       avg_custage|          mean_age|distinct_cnt_age|\n+----+--------+--------------------+----------+----------+------------------+------------------+----------------+\n|2024|   Adult|              Writer|2024-06-30|2024-06-30| 50.47872340425532| 50.47872340425532|              41|\n|2024|   Adult|        Veterinarian|2024-06-30|2024-06-30|49.932367149758456|49.932367149758456|              52|\n|2024|   Adult|             Teacher|2024-06-30|2024-06-30| 49.96808510638298| 49.96808510638298|              51|\n|2024|   Adult|        Statistician|2024-06-30|2024-06-30| 48.73979591836735| 48.73979591836735|              51|\n|2024|   Adult|       Social worker|2024-06-30|2024-06-30|49.132075471698116|49.132075471698116|              53|\n|2024|   Adult|           Secretary|2024-06-30|2024-06-30|             46.99|             46.99|              52|\n|2024|   Adult|            Reporter|2024-06-30|2024-06-30|             48.11|             48.11|              49|\n|2024|   Adult|Recreation and fi...|2024-06-30|2024-06-30| 47.56666666666667| 47.56666666666667|              51|\n|2024|   Adult|   Real estate agent|2024-06-30|2024-06-30| 49.68586387434555| 49.68586387434555|              52|\n|2024|   Adult|        Psychologist|2024-06-30|2024-06-30| 47.41752577319588| 47.41752577319588|              54|\n|2024|   Adult|          Politician|2024-06-30|2024-06-30| 47.97797356828194| 47.97797356828194|              54|\n|2024|   Adult|      Police officer|2024-06-30|2024-06-30| 47.97607655502392| 47.97607655502392|              54|\n|2024|   Adult|               Pilot|2024-06-30|2024-06-30| 47.81730769230769| 47.81730769230769|              54|\n|2024|   Adult|           Physicist|2024-06-30|2024-06-30| 49.33830845771144| 49.33830845771144|              52|\n|2024|   Adult|           Physician|2024-06-30|2024-06-30|48.693548387096776|48.693548387096776|              53|\n|2024|   Adult|        Photographer|2024-06-30|2024-06-30| 47.77477477477478| 47.77477477477478|              54|\n|2024|   Adult|          Pharmacist|2024-06-30|2024-06-30|46.244131455399064|46.244131455399064|              55|\n|2024|   Adult|               Nurse|2024-06-30|2024-06-30|48.481675392670155|48.481675392670155|              49|\n|2024|   Adult|      Music Director|2024-06-30|2024-06-30|49.044117647058826|49.044117647058826|              52|\n|2024|   Adult|        Loan officer|2024-06-30|2024-06-30| 48.39819004524887| 48.39819004524887|              52|\n+----+--------+--------------------+----------+----------+------------------+------------------+----------------+\nonly showing top 20 rows\n\nAnalytical Functionalities\n+-------+--------------------+-------+------+----------+--------------------+--------------------+----------+--------+----+-------------------+--------+\n|     id|      custprofession|custage|   src|     curdt|              loadts|            nameprof| custfname|curdtstr|year|              dtfmt|agegroup|\n+-------+--------------------+-------+------+----------+--------------------+--------------------+----------+--------+----+-------------------+--------+\n|   null|                null|      0|Retail|2024-06-30|2024-06-30 23:22:...|                null|      null|   24/06|2024|2024/06/30 12:00:00|   Child|\n|4000779|               Coach|     21|Retail|2024-06-30|2024-06-30 23:22:...|  Bowling is a Coach|   Bowling|   24/06|2024|2024/06/30 12:00:00|   Adult|\n|4001589|               Judge|     21|Retail|2024-06-30|2024-06-30 23:22:...|       Lu is a Judge|        Lu|   24/06|2024|2024/06/30 12:00:00|   Adult|\n|4001843|             Teacher|     21|Retail|2024-06-30|2024-06-30 23:22:...| Rogers is a Teacher|    Rogers|   24/06|2024|2024/06/30 12:00:00|   Adult|\n|4001965|        Statistician|     21|Retail|2024-06-30|2024-06-30 23:22:...|Snow is a Statist...|      Snow|   24/06|2024|2024/06/30 12:00:00|   Adult|\n|4002440|               Nurse|     21|Retail|2024-06-30|2024-06-30 23:22:...|   Levine is a Nurse|    Levine|   24/06|2024|2024/06/30 12:00:00|   Adult|\n|4002668|   Financial analyst|     21|Retail|2024-06-30|2024-06-30 23:22:...|Marsh is a Financ...|     Marsh|   24/06|2024|2024/06/30 12:00:00|   Adult|\n|4004062|Engineering techn...|     21|Retail|2024-06-30|2024-06-30 23:22:...|Kerr is a Enginee...|      Kerr|   24/06|2024|2024/06/30 12:00:00|   Adult|\n|4004331|             Teacher|     21|Retail|2024-06-30|2024-06-30 23:22:...|   Wolf is a Teacher|      Wolf|   24/06|2024|2024/06/30 12:00:00|   Adult|\n|4004356|Computer support ...|     21|Retail|2024-06-30|2024-06-30 23:22:...|Hess is a Compute...|      Hess|   24/06|2024|2024/06/30 12:00:00|   Adult|\n|4004510|               Nurse|     21|Retail|2024-06-30|2024-06-30 23:22:...|    Doyle is a Nurse|     Doyle|   24/06|2024|2024/06/30 12:00:00|   Adult|\n|4004854| Electrical engineer|     21|Retail|2024-06-30|2024-06-30 23:22:...|Chu is a Electric...|       Chu|   24/06|2024|2024/06/30 12:00:00|   Adult|\n|4005252|               Coach|     21|Retail|2024-06-30|2024-06-30 23:22:...|  Fischer is a Coach|   Fischer|   24/06|2024|2024/06/30 12:00:00|   Adult|\n|4005618|         Firefighter|     21|Retail|2024-06-30|2024-06-30 23:22:...|Poe is a Firefighter|       Poe|   24/06|2024|2024/06/30 12:00:00|   Adult|\n|4006046|            Reporter|     21|Retail|2024-06-30|2024-06-30 23:22:...|Strickland is a R...|Strickland|   24/06|2024|2024/06/30 12:00:00|   Adult|\n|4006568|      Civil engineer|     21|Retail|2024-06-30|2024-06-30 23:22:...|Carson is a Civil...|    Carson|   24/06|2024|2024/06/30 12:00:00|   Adult|\n|4007103|      Music Director|     21|Retail|2024-06-30|2024-06-30 23:22:...|Burnett is a Musi...|   Burnett|   24/06|2024|2024/06/30 12:00:00|   Adult|\n|4008047| Electrical engineer|     21|Retail|2024-06-30|2024-06-30 23:22:...|Simon is a Electr...|     Simon|   24/06|2024|2024/06/30 12:00:00|   Adult|\n|4009024|          Pharmacist|     21|Retail|2024-06-30|2024-06-30 23:22:...|Kirk is a Pharmacist|      Kirk|   24/06|2024|2024/06/30 12:00:00|   Adult|\n|4009034|        Loan officer|     21|Retail|2024-06-30|2024-06-30 23:22:...|Beck is a Loan of...|      Beck|   24/06|2024|2024/06/30 12:00:00|   Adult|\n+-------+--------------------+-------+------+----------+--------------------+--------------------+----------+--------+----+-------------------+--------+\nonly showing top 20 rows\n\n+-------+------------------+--------------+------------------+------+--------------------+---------+--------+------+-------------------+--------+\n|summary|                id|custprofession|           custage|   src|            nameprof|custfname|curdtstr|  year|              dtfmt|agegroup|\n+-------+------------------+--------------+------------------+------+--------------------+---------+--------+------+-------------------+--------+\n|  count|              9996|          9911|              9999|  9999|                9910|     9910|    9999|  9999|               9999|    9999|\n|   mean|4005001.4972989196|          null| 48.54965496549655|  null|                null|     null|    null|2024.0|               null|    null|\n| stddev| 2885.745656652718|          null|15.564297578200698|  null|                null|     null|    null|   0.0|               null|    null|\n|    min|           4000000|    Accountant|                 0|Retail|Abbott is a Accou...|   Abbott|   24/06|  2024|2024/06/30 12:00:00|   Adult|\n|    25%|           4002501|          null|                35|  null|                null|     null|    null|  2024|               null|    null|\n|    50%|           4005000|          null|                49|  null|                null|     null|    null|  2024|               null|    null|\n|    75%|           4007499|          null|                62|  null|                null|     null|    null|  2024|               null|    null|\n|    max|           4009999|        Writer|                75|Retail|   santharam is a IT|santharam|   24/06|  2024|2024/06/30 12:00:00|   Child|\n+-------+------------------+--------------+------------------+------+--------------------+---------+--------+------+-------------------+--------+\n\nCorrelation value of age is 1.0\nCovariance value of age is 242.2473591027843\n+------------------------+------------------+\n|custprofession_freqItems|agegroup_freqItems|\n+------------------------+------------------+\n|                      []|    [Adult, Child]|\n+------------------------+------------------+\n\n+-------+--------------------+-------+------+----------+--------------------+--------------------+--------------------+--------+----+-------------------+--------+\n|     id|      custprofession|custage|   src|     curdt|              loadts|            nameprof|           custfname|curdtstr|year|              dtfmt|agegroup|\n+-------+--------------------+-------+------+----------+--------------------+--------------------+--------------------+--------+----+-------------------+--------+\n|   null|                null|      0|Retail|2024-06-30|2024-06-30 23:22:...|                null|                null|   24/06|2024|2024/06/30 12:00:00|   Child|\n|4000010|                null|      0|Retail|2024-06-30|2024-06-30 23:22:...|                null|                null|   24/06|2024|2024/06/30 12:00:00|   Child|\n|4000000|                null|     11|Retail|2024-06-30|2024-06-30 23:22:...|                null|                null|   24/06|2024|2024/06/30 12:00:00|   Child|\n|4000052|            Reporter|     21|Retail|2024-06-30|2024-06-30 23:22:...|Merritt is a Repo...|c9ce09edec407346a...|   24/06|2024|2024/06/30 12:00:00|   Adult|\n|4000176|               Coach|     21|Retail|2024-06-30|2024-06-30 23:22:...|Alexander is a Coach|b7a71d8799cf6dd75...|   24/06|2024|2024/06/30 12:00:00|   Adult|\n|4000290|               Nurse|     21|Retail|2024-06-30|2024-06-30 23:22:...|Whitehead is a Nurse|5311b715d13ddb250...|   24/06|2024|2024/06/30 12:00:00|   Adult|\n|4000292|       Social worker|     21|Retail|2024-06-30|2024-06-30 23:22:...|Rice is a Social ...|5ced19b207476c79c...|   24/06|2024|2024/06/30 12:00:00|   Adult|\n|4000349|      Civil engineer|     21|Retail|2024-06-30|2024-06-30 23:22:...|Dalton is a Civil...|39e0596051890f93e...|   24/06|2024|2024/06/30 12:00:00|   Adult|\n|4000451|           Architect|     21|Retail|2024-06-30|2024-06-30 23:22:...| Hess is a Architect|5a0aea2bb55441107...|   24/06|2024|2024/06/30 12:00:00|   Adult|\n|4000465|               Nurse|     21|Retail|2024-06-30|2024-06-30 23:22:...|  Guthrie is a Nurse|7af4d136192b632bf...|   24/06|2024|2024/06/30 12:00:00|   Adult|\n|4000765|          Politician|     21|Retail|2024-06-30|2024-06-30 23:22:...|Bowden is a Polit...|2b6368d987c76a980...|   24/06|2024|2024/06/30 12:00:00|   Adult|\n|4000779|               Coach|     21|Retail|2024-06-30|2024-06-30 23:22:...|  Bowling is a Coach|bfdf3e6da677560f5...|   24/06|2024|2024/06/30 12:00:00|   Adult|\n|4001043|               Coach|     21|Retail|2024-06-30|2024-06-30 23:22:...|   Hodges is a Coach|e7886e89ce5aaf428...|   24/06|2024|2024/06/30 12:00:00|   Adult|\n|4001101|           Economist|     21|Retail|2024-06-30|2024-06-30 23:22:...|Byers is a Economist|e066f37cb7c85e57b...|   24/06|2024|2024/06/30 12:00:00|   Adult|\n|4001109|           Carpenter|     21|Retail|2024-06-30|2024-06-30 23:22:...| Ball is a Carpenter|353df421c4fc976e2...|   24/06|2024|2024/06/30 12:00:00|   Adult|\n|4001213|            Reporter|     21|Retail|2024-06-30|2024-06-30 23:22:...| Nance is a Reporter|0efd641b270132f2c...|   24/06|2024|2024/06/30 12:00:00|   Adult|\n|4001430|Computer support ...|     21|Retail|2024-06-30|2024-06-30 23:22:...|Reynolds is a Com...|2c4817abf85cc7dfa...|   24/06|2024|2024/06/30 12:00:00|   Adult|\n|4001453|   Financial analyst|     21|Retail|2024-06-30|2024-06-30 23:22:...|Wolfe is a Financ...|0b68ac457a2695921...|   24/06|2024|2024/06/30 12:00:00|   Adult|\n|4001541|Human resources a...|     21|Retail|2024-06-30|2024-06-30 23:22:...|Humphrey is a Hum...|be914761c3992cea6...|   24/06|2024|2024/06/30 12:00:00|   Adult|\n|4001563|      Civil engineer|     21|Retail|2024-06-30|2024-06-30 23:22:...|Foster is a Civil...|be3a5f655d53a898d...|   24/06|2024|2024/06/30 12:00:00|   Adult|\n+-------+--------------------+-------+------+----------+--------------------+--------------------+--------------------+--------+----+-------------------+--------+\nonly showing top 20 rows\n\nCore Data Curation/Processing/Transformation (Level2) Data Wrangling\n+-------+---------+-----------+-------+--------------------+-----+----------+-------+-----+------------------+--------------------+-------------+----------+-------+\n|     id|custfname|  custlname|custage|      custprofession|txnid|        dt| custid|  amt|          category|             product|         city|     state|spendby|\n+-------+---------+-----------+-------+--------------------+-----+----------+-------+-----+------------------+--------------------+-------------+----------+-------+\n|4007721|    Wayne|Fitzpatrick|     37|           Economist|24516|01-01-2011|4007721| 5.14|        Gymnastics|    Gymnastics Rings|      Memphis| Tennessee| credit|\n|4005425|     Evan|   Woodward|     28|Environmental sci...|92352|01-01-2011|4005425| 7.01|             Games|         Board Games|Oklahoma City|  Oklahoma|   cash|\n|4001375|     Luis|   Freedman|     44|   Real estate agent|75911|01-01-2011|4001375| 7.14|Outdoor Recreation|Camping & Backpac...|  Nashville  | Tennessee| credit|\n|4008173|     Emma|    Daniels|     28|      Civil engineer|93118|01-01-2011|4008173| 7.51|Outdoor Recreation|   Deck Shuffleboard|    Las Vegas|    Nevada| credit|\n|4003862|    Lewis|       Link|     38|           Therapist|79691|01-01-2011|4003862| 8.25|        Gymnastics|Gymnastics Protec...|      Atlanta|   Georgia|   cash|\n|4006669|   Jeremy|   Thornton|     74|        Statistician|89154|01-01-2011|4006669| 8.77|       Team Sports|   Indoor Volleyball|      Anaheim|California|   cash|\n|4001311|     Greg|   Erickson|     66|              Lawyer| 6358|01-01-2011|4001311| 8.81|Outdoor Recreation|                Golf|Indianapolis |   Indiana|   cash|\n|4005173|   Andrea|      Desai|     33|      Civil engineer|41471|01-01-2011|4005173| 9.51|       Team Sports|        Cheerleading|   Saint Paul| Minnesota|   cash|\n|4007150|   Esther|Christensen|     37|           Secretary|18745|01-01-2011|4007150|10.59|Outdoor Recreation|           Disc Golf|  Jersey City|New Jersey|   cash|\n|4000847|  Natalie|      Cooke|     66|      Police officer|18214|01-01-2011|4000847|10.83|       Team Sports|        Field Hockey|   Long Beach|California| credit|\n|4004419|     Ruby|       Pope|     51|               Judge|58064|01-01-2011|4004419|10.94|     Winter Sports|         Bobsledding|Indianapolis |   Indiana|   cash|\n|4002368|      Lee|    Proctor|     40|              Dancer|88849|01-01-2011|4002368|11.38|      Water Sports|         Windsurfing|        Tampa|   Florida|   cash|\n|4002701|   Carole|   McDaniel|     59|Environmental sci...|88216|01-01-2011|4002701|11.51|     Winter Sports|                Luge|         Reno|    Nevada| credit|\n|4006939|   Rhonda|      Small|     57|   Financial analyst|71962|01-01-2011|4006939|11.91|      Water Sports|            Swimming|  Nashville  | Tennessee|   cash|\n|4009671|     Karl|    Maynard|     43|              Lawyer| 7452|01-01-2011|4009671|12.03|        Gymnastics|Gymnastics Protec...|      Madison| Wisconsin|   cash|\n|4007952|  Herbert|      Beach|     32|           Physicist|90584|01-01-2011|4007952|12.11|Outdoor Recreation|         Motorsports|     Berkeley|California|   cash|\n|4004312|   Jessie|    O'Brien|     55|        Statistician|76473|01-01-2011|4004312|14.38|      Water Sports|            Swimming|     Columbus|   Georgia|   cash|\n|4006978|     Mark|      Watts|     28|Computer hardware...|82135|01-01-2011|4006978|15.16|      Water Sports|Scuba Diving & Sn...|   Cincinnati|      Ohio| credit|\n|4000310|    Julie|    Skinner|     56| Electrical engineer|28010|01-01-2011|4000310|16.19|Exercise & Fitness|Weightlifting Mac...|     Columbus|      Ohio| credit|\n|4005866|      Pam|     Adcock|     21|      Police officer|90891|01-01-2011|4005866|17.17|Outdoor Recreation|Camping & Backpac...|        Salem|    Oregon|   cash|\n+-------+---------+-----------+-------+--------------------+-----+----------+-------+-----+------------------+--------------------+-------------+----------+-------+\nonly showing top 20 rows\n\n+-------+---------+-----------+-------+--------------------+-----+----------+-------+-----+------------------+--------------------+-------------+----------+-------+---+\n|     id|custfname|  custlname|custage|      custprofession|txnid|        dt| custid|  amt|          category|             product|         city|     state|spendby|sno|\n+-------+---------+-----------+-------+--------------------+-----+----------+-------+-----+------------------+--------------------+-------------+----------+-------+---+\n|4007721|    Wayne|Fitzpatrick|     37|           Economist|24516|01-01-2011|4007721| 5.14|        Gymnastics|    Gymnastics Rings|      Memphis| Tennessee| credit|  1|\n|4005425|     Evan|   Woodward|     28|Environmental sci...|92352|01-01-2011|4005425| 7.01|             Games|         Board Games|Oklahoma City|  Oklahoma|   cash|  2|\n|4001375|     Luis|   Freedman|     44|   Real estate agent|75911|01-01-2011|4001375| 7.14|Outdoor Recreation|Camping & Backpac...|  Nashville  | Tennessee| credit|  3|\n|4008173|     Emma|    Daniels|     28|      Civil engineer|93118|01-01-2011|4008173| 7.51|Outdoor Recreation|   Deck Shuffleboard|    Las Vegas|    Nevada| credit|  4|\n|4003862|    Lewis|       Link|     38|           Therapist|79691|01-01-2011|4003862| 8.25|        Gymnastics|Gymnastics Protec...|      Atlanta|   Georgia|   cash|  5|\n|4006669|   Jeremy|   Thornton|     74|        Statistician|89154|01-01-2011|4006669| 8.77|       Team Sports|   Indoor Volleyball|      Anaheim|California|   cash|  6|\n|4001311|     Greg|   Erickson|     66|              Lawyer| 6358|01-01-2011|4001311| 8.81|Outdoor Recreation|                Golf|Indianapolis |   Indiana|   cash|  7|\n|4005173|   Andrea|      Desai|     33|      Civil engineer|41471|01-01-2011|4005173| 9.51|       Team Sports|        Cheerleading|   Saint Paul| Minnesota|   cash|  8|\n|4007150|   Esther|Christensen|     37|           Secretary|18745|01-01-2011|4007150|10.59|Outdoor Recreation|           Disc Golf|  Jersey City|New Jersey|   cash|  9|\n|4000847|  Natalie|      Cooke|     66|      Police officer|18214|01-01-2011|4000847|10.83|       Team Sports|        Field Hockey|   Long Beach|California| credit| 10|\n|4004419|     Ruby|       Pope|     51|               Judge|58064|01-01-2011|4004419|10.94|     Winter Sports|         Bobsledding|Indianapolis |   Indiana|   cash| 11|\n|4002368|      Lee|    Proctor|     40|              Dancer|88849|01-01-2011|4002368|11.38|      Water Sports|         Windsurfing|        Tampa|   Florida|   cash| 12|\n|4002701|   Carole|   McDaniel|     59|Environmental sci...|88216|01-01-2011|4002701|11.51|     Winter Sports|                Luge|         Reno|    Nevada| credit| 13|\n|4006939|   Rhonda|      Small|     57|   Financial analyst|71962|01-01-2011|4006939|11.91|      Water Sports|            Swimming|  Nashville  | Tennessee|   cash| 14|\n|4009671|     Karl|    Maynard|     43|              Lawyer| 7452|01-01-2011|4009671|12.03|        Gymnastics|Gymnastics Protec...|      Madison| Wisconsin|   cash| 15|\n|4007952|  Herbert|      Beach|     32|           Physicist|90584|01-01-2011|4007952|12.11|Outdoor Recreation|         Motorsports|     Berkeley|California|   cash| 16|\n|4004312|   Jessie|    O'Brien|     55|        Statistician|76473|01-01-2011|4004312|14.38|      Water Sports|            Swimming|     Columbus|   Georgia|   cash| 17|\n|4006978|     Mark|      Watts|     28|Computer hardware...|82135|01-01-2011|4006978|15.16|      Water Sports|Scuba Diving & Sn...|   Cincinnati|      Ohio| credit| 18|\n|4000310|    Julie|    Skinner|     56| Electrical engineer|28010|01-01-2011|4000310|16.19|Exercise & Fitness|Weightlifting Mac...|     Columbus|      Ohio| credit| 19|\n|4005866|      Pam|     Adcock|     21|      Police officer|90891|01-01-2011|4005866|17.17|Outdoor Recreation|Camping & Backpac...|        Salem|    Oregon|   cash| 20|\n+-------+---------+-----------+-------+--------------------+-----+----------+-------+-----+------------------+--------------------+-------------+----------+-------+---+\nonly showing top 20 rows\n\nData Persistence & Consumption\nfinal df output\n+-------+--------------------+-------+------+----------+--------------------+--------------------+---------+--------+----+-------------------+--------+\n|     id|      custprofession|custage|   src|     curdt|              loadts|            nameprof|custfname|curdtstr|year|              dtfmt|agegroup|\n+-------+--------------------+-------+------+----------+--------------------+--------------------+---------+--------+----+-------------------+--------+\n|   null|                null|      0|Retail|2024-06-30|2024-06-30 23:22:...|                null|     null|   24/06|2024|2024/06/30 12:00:00|   Child|\n|4000010|                null|      0|Retail|2024-06-30|2024-06-30 23:22:...|                null|     null|   24/06|2024|2024/06/30 12:00:00|   Child|\n|4000000|                null|     11|Retail|2024-06-30|2024-06-30 23:22:...|                null|     null|   24/06|2024|2024/06/30 12:00:00|   Child|\n|4000052|            Reporter|     21|Retail|2024-06-30|2024-06-30 23:22:...|Merritt is a Repo...|  Merritt|   24/06|2024|2024/06/30 12:00:00|   Adult|\n|4000176|               Coach|     21|Retail|2024-06-30|2024-06-30 23:22:...|Alexander is a Coach|Alexander|   24/06|2024|2024/06/30 12:00:00|   Adult|\n|4000290|               Nurse|     21|Retail|2024-06-30|2024-06-30 23:22:...|Whitehead is a Nurse|Whitehead|   24/06|2024|2024/06/30 12:00:00|   Adult|\n|4000292|       Social worker|     21|Retail|2024-06-30|2024-06-30 23:22:...|Rice is a Social ...|     Rice|   24/06|2024|2024/06/30 12:00:00|   Adult|\n|4000349|      Civil engineer|     21|Retail|2024-06-30|2024-06-30 23:22:...|Dalton is a Civil...|   Dalton|   24/06|2024|2024/06/30 12:00:00|   Adult|\n|4000451|           Architect|     21|Retail|2024-06-30|2024-06-30 23:22:...| Hess is a Architect|     Hess|   24/06|2024|2024/06/30 12:00:00|   Adult|\n|4000465|               Nurse|     21|Retail|2024-06-30|2024-06-30 23:22:...|  Guthrie is a Nurse|  Guthrie|   24/06|2024|2024/06/30 12:00:00|   Adult|\n|4000765|          Politician|     21|Retail|2024-06-30|2024-06-30 23:22:...|Bowden is a Polit...|   Bowden|   24/06|2024|2024/06/30 12:00:00|   Adult|\n|4000779|               Coach|     21|Retail|2024-06-30|2024-06-30 23:22:...|  Bowling is a Coach|  Bowling|   24/06|2024|2024/06/30 12:00:00|   Adult|\n|4001043|               Coach|     21|Retail|2024-06-30|2024-06-30 23:22:...|   Hodges is a Coach|   Hodges|   24/06|2024|2024/06/30 12:00:00|   Adult|\n|4001101|           Economist|     21|Retail|2024-06-30|2024-06-30 23:22:...|Byers is a Economist|    Byers|   24/06|2024|2024/06/30 12:00:00|   Adult|\n|4001109|           Carpenter|     21|Retail|2024-06-30|2024-06-30 23:22:...| Ball is a Carpenter|     Ball|   24/06|2024|2024/06/30 12:00:00|   Adult|\n|4001213|            Reporter|     21|Retail|2024-06-30|2024-06-30 23:22:...| Nance is a Reporter|    Nance|   24/06|2024|2024/06/30 12:00:00|   Adult|\n|4001430|Computer support ...|     21|Retail|2024-06-30|2024-06-30 23:22:...|Reynolds is a Com...| Reynolds|   24/06|2024|2024/06/30 12:00:00|   Adult|\n|4001453|   Financial analyst|     21|Retail|2024-06-30|2024-06-30 23:22:...|Wolfe is a Financ...|    Wolfe|   24/06|2024|2024/06/30 12:00:00|   Adult|\n|4001541|Human resources a...|     21|Retail|2024-06-30|2024-06-30 23:22:...|Humphrey is a Hum...| Humphrey|   24/06|2024|2024/06/30 12:00:00|   Adult|\n|4001563|      Civil engineer|     21|Retail|2024-06-30|2024-06-30 23:22:...|Foster is a Civil...|   Foster|   24/06|2024|2024/06/30 12:00:00|   Adult|\n+-------+--------------------+-------+------+----------+--------------------+--------------------+---------+--------+----+-------------------+--------+\nonly showing top 20 rows\n\nHive Table Load Completed\nOutbound Egress File load completed\nETL Processing Completed\n"
     ]
    }
   ],
   "source": [
    "if __name__ == \"__main__\":\n",
    "    import sys\n",
    "    from pyspark.sql import SparkSession\n",
    "    from pyspark.sql.functions import *\n",
    "    from pyspark.sql.types import *\n",
    "    from pyspark.sql.window import *\n",
    "    print(input_path1,input_path2,connection_properties_path3)\n",
    "    arg = [\"ETL Pipeline\",input_path1,input_path2,connection_properties_path3]\n",
    "    main(arg)"
   ]
  }
 ],
 "metadata": {
  "application/vnd.databricks.v1+notebook": {
   "dashboards": [],
   "environmentMetadata": null,
   "language": "python",
   "notebookMetadata": {
    "mostRecentlyExecutedCommandWithImplicitDF": {
     "commandId": 3385419295327798,
     "dataframes": [
      "_sqldf"
     ]
    },
    "pythonIndentUnit": 4
   },
   "notebookName": "sparkETLMainPipeline1",
   "widgets": {
    "connection_properties_path": {
     "currentValue": "dbfs:/FileStore/config/connection.prop",
     "nuid": "9eddb349-6057-4362-9280-653cb857ef89",
     "typedWidgetInfo": null,
     "widgetInfo": {
      "widgetType": "text",
      "defaultValue": "",
      "label": null,
      "name": "connection_properties_path",
      "options": {
       "widgetType": "text",
       "autoCreated": null,
       "validationRegex": null
      }
     }
    },
    "cust_data_path": {
     "currentValue": "dbfs:/FileStore/data/custsmodified",
     "nuid": "d4c71ac7-79fa-4341-97cc-412e95a47bf0",
     "typedWidgetInfo": null,
     "widgetInfo": {
      "widgetType": "text",
      "defaultValue": "",
      "label": null,
      "name": "cust_data_path",
      "options": {
       "widgetType": "text",
       "autoCreated": null,
       "validationRegex": null
      }
     }
    },
    "txns_data_path": {
     "currentValue": "dbfs:/FileStore/data/txns",
     "nuid": "910e3bc9-a955-4e04-be61-510d9032ac4d",
     "typedWidgetInfo": null,
     "widgetInfo": {
      "widgetType": "text",
      "defaultValue": "",
      "label": null,
      "name": "txns_data_path",
      "options": {
       "widgetType": "text",
       "autoCreated": null,
       "validationRegex": null
      }
     }
    }
   }
  }
 },
 "nbformat": 4,
 "nbformat_minor": 0
}
